{
 "cells": [
  {
   "cell_type": "code",
   "execution_count": 1,
   "metadata": {},
   "outputs": [],
   "source": [
    "from flask import Flask,  Response\n",
    "import json\n",
    "import pymongo\n",
    "import os"
   ]
  },
  {
   "cell_type": "code",
   "execution_count": 3,
   "metadata": {},
   "outputs": [
    {
     "name": "stdout",
     "output_type": "stream",
     "text": [
      "['test', 'thirty_days_of_python', 'threads', 'admin', 'local']\n"
     ]
    }
   ],
   "source": [
    "MONGODB_URI = os.environ.get('MONGODB_URI')\n",
    "client = pymongo.MongoClient(MONGODB_URI)\n",
    "# # Creating or opening database\n",
    "# db = client.thirty_days_of_python\n",
    "db = client['thirty_days_of_python']\n",
    "print(client.list_database_names())"
   ]
  },
  {
   "cell_type": "code",
   "execution_count": null,
   "metadata": {},
   "outputs": [],
   "source": []
  }
 ],
 "metadata": {
  "kernelspec": {
   "display_name": "Python 3 (ipykernel)",
   "language": "python",
   "name": "python3"
  }
 },
 "nbformat": 4,
 "nbformat_minor": 2
}
